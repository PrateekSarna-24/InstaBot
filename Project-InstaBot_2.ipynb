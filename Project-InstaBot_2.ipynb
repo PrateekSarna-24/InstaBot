{
 "cells": [
  {
   "cell_type": "markdown",
   "id": "fabcac49",
   "metadata": {},
   "source": [
    "## Project: InstaBot - II"
   ]
  },
  {
   "cell_type": "markdown",
   "id": "9163db7a",
   "metadata": {},
   "source": [
    "### Description"
   ]
  },
  {
   "cell_type": "markdown",
   "id": "8505c6ad",
   "metadata": {},
   "source": [
    "Your friend has opened a new Food Blogging handle on Instagram and wants to get famous. \n",
    "\n",
    "He wants to follow a lot of people so that he can get noticed quickly but it is a tedious task so he asks you to help him.\n",
    "\n",
    "As you have just learned automation using Selenium, you decided to help him by creating an Instagram Bot.\n",
    "\n",
    "You need to create different functions for each task."
   ]
  },
  {
   "cell_type": "markdown",
   "id": "f6e1da26",
   "metadata": {},
   "source": [
    "### NOTE : All the results were obtained the Date : 29th June, 2023 and Time: 5:34 pm"
   ]
  },
  {
   "cell_type": "markdown",
   "id": "9658cc32",
   "metadata": {},
   "source": [
    "### Importing Libraries"
   ]
  },
  {
   "cell_type": "code",
   "execution_count": 1,
   "id": "c8a2ff14",
   "metadata": {},
   "outputs": [],
   "source": [
    "from bs4 import BeautifulSoup\n",
    "import pandas as pd\n",
    "import numpy as np\n",
    "import re\n",
    "from selenium import webdriver\n",
    "from selenium.webdriver.chrome.service import Service\n",
    "from selenium.webdriver.common.by import By\n",
    "from selenium.webdriver.support.ui import WebDriverWait\n",
    "from selenium.webdriver.support import expected_conditions as EC\n",
    "from selenium.webdriver.support.select import Select\n",
    "import time\n",
    "import matplotlib.pyplot as plt"
   ]
  },
  {
   "cell_type": "markdown",
   "id": "54843736",
   "metadata": {},
   "source": [
    "### Creating a Driver Session and logging in before solving any problems"
   ]
  },
  {
   "cell_type": "code",
   "execution_count": 2,
   "id": "f3e9459c",
   "metadata": {},
   "outputs": [
    {
     "name": "stderr",
     "output_type": "stream",
     "text": [
      "Error getting version of chromedriver 115. Retrying with chromedriver 114 (attempt 1/5)\n"
     ]
    }
   ],
   "source": [
    "WebService = Service(executable_path = 'D:\\chromedriver_win32\\chromedriver')\n",
    "driver = webdriver.Chrome(service = WebService)\n",
    "driver.maximize_window()"
   ]
  },
  {
   "cell_type": "code",
   "execution_count": 3,
   "id": "786bc15a",
   "metadata": {},
   "outputs": [],
   "source": [
    "def log_in(username, password) :\n",
    "    instagram_link = 'https://www.instagram.com/'\n",
    "    driver.get(instagram_link)\n",
    "    ## waiting explicitly till the input elements load in the page\n",
    "    wait = WebDriverWait(driver, 5)\n",
    "    input_elements = wait.until(EC.presence_of_all_elements_located((By.TAG_NAME, 'input')))\n",
    "    username_input = input_elements[0]\n",
    "    password_input = input_elements[1]\n",
    "    ## passing arguments\n",
    "    username_input.send_keys(username)\n",
    "    password_input.send_keys(password)\n",
    "    ## log in button has an attribute \"type = submit\" so just calling the submit method on password element\n",
    "    password_input.submit()\n",
    "    try :\n",
    "        ## waiting till \"notification\" appears on the screen\n",
    "        wait = WebDriverWait(driver, 5)\n",
    "        not_now_btn = wait.until(EC.presence_of_element_located((By.XPATH, '//button[contains(@class, \"_a9_1\")]')))\n",
    "        not_now_btn.click()\n",
    "    except :\n",
    "        pass"
   ]
  },
  {
   "cell_type": "code",
   "execution_count": 4,
   "id": "813b6501",
   "metadata": {},
   "outputs": [],
   "source": [
    "log_in('Sample_Username','Sample_Password' )"
   ]
  },
  {
   "cell_type": "markdown",
   "id": "46b3a4ed",
   "metadata": {},
   "source": [
    "## Project Flow"
   ]
  },
  {
   "cell_type": "markdown",
   "id": "ac138c3b",
   "metadata": {},
   "source": [
    "### Problem 1: Now your friend has followed a lot of different food bloggers, he needs to analyse the habits of these bloggers.\n",
    "\n",
    "1. From the list of instagram handles you obtained when you searched ‘food’ in previous project. Open the first 10 handles and find the top 5 which have the highest number of followers\n",
    "    \n",
    "2. Now Find the number of posts these handles have done in the previous 3 days.\n",
    "    \n",
    "3. Depict this information using a suitable graph."
   ]
  },
  {
   "cell_type": "markdown",
   "id": "bb83cd13",
   "metadata": {},
   "source": [
    "#### 1.1 : From the list of instagram handles you obtained when you searched ‘food’ in previous project. Open the first 10 handles and find the top 5 which have the highest number of followers"
   ]
  },
  {
   "cell_type": "code",
   "execution_count": 5,
   "id": "f5d2a78c",
   "metadata": {},
   "outputs": [],
   "source": [
    "def get_top_5_handles() :\n",
    "    all_profiles = search_and_get_all_handles('food')\n",
    "    time.sleep(1)\n",
    "    myDict = return_profile_vs_followers(all_profiles)\n",
    "    myDict = sort_dict(myDict)\n",
    "    myDict = dict(reversed(list(myDict.items())))\n",
    "    top5 = {}\n",
    "    count = 0\n",
    "    for i in list(myDict.items()) :\n",
    "        if count == 5 :\n",
    "            break\n",
    "        top5[i[0]] = i[1]\n",
    "        count += 1\n",
    "    return top5"
   ]
  },
  {
   "cell_type": "code",
   "execution_count": 6,
   "id": "125e9913",
   "metadata": {},
   "outputs": [],
   "source": [
    "def search_and_get_all_handles(topic) :\n",
    "    ## going to main page\n",
    "    instagram_link = 'https://www.instagram.com/'\n",
    "    driver.get(instagram_link)\n",
    "    ## finding search box\n",
    "    \n",
    "    wait = WebDriverWait(driver, 10)\n",
    "\n",
    "    search_btn = wait.until(EC.presence_of_element_located((By.PARTIAL_LINK_TEXT, 'Search')))\n",
    "    search_btn.click()\n",
    "    search_box = driver.find_element(By.TAG_NAME, 'input')\n",
    "    time.sleep(1)\n",
    "    \n",
    "    ## sending text to search box\n",
    "    \n",
    "    search_box.send_keys(topic)\n",
    "\n",
    "    ## waiting explicitly till search result list appears\n",
    "    wait = WebDriverWait(driver, 10)\n",
    "    search_result_list = wait.until(EC.presence_of_element_located((By.XPATH, '//div[starts-with(@class, \"x9f619 x78zum5 xdt5ytf x12dtdjy x6ikm8r x1odjw0f x4uap5 x18d9i69 xkhd6sd xh8yej3 x1iyjqo2 xocp1fn\")]')))\n",
    "    time.sleep(3)\n",
    "    ## Parsing the element HTML to get profile link list\n",
    "    search_result_list_html_object = BeautifulSoup(search_result_list.get_attribute('outerHTML'), 'html.parser')\n",
    "    all_profile_links = search_result_list_html_object.find_all('a')\n",
    "    \n",
    "    ## calling function\n",
    "    extract_profile_links_from_elements(all_profile_links)\n",
    "    \n",
    "    if len(all_profile_links) >= 10 :\n",
    "        all_profile_links = all_profile_links[0 : 10]    \n",
    "    \n",
    "    return all_profile_links"
   ]
  },
  {
   "cell_type": "code",
   "execution_count": 7,
   "id": "8b8c576f",
   "metadata": {},
   "outputs": [],
   "source": [
    "def extract_profile_links_from_elements(all_profile_links) :\n",
    "    for i in range(len(all_profile_links)) :\n",
    "        profile = all_profile_links[i]\n",
    "        link = 'https://www.instagram.com' + profile.get('href')\n",
    "        all_profile_links[i] = link"
   ]
  },
  {
   "cell_type": "code",
   "execution_count": 8,
   "id": "b2748d13",
   "metadata": {},
   "outputs": [],
   "source": [
    "def get_follower_count(followers_element) :\n",
    "    notation = {'K' : 1000, 'M' : 1000000, 'B' : 1000000000}\n",
    "    followers_displayed = followers_element.text\n",
    "    followers_displayed = followers_displayed.replace(',', '')\n",
    "    number_notation = followers_displayed[-1]\n",
    "    if number_notation not in notation :\n",
    "        return int(float(followers_displayed))\n",
    "    else :\n",
    "        number = followers_displayed[0 : len(followers_displayed) - 1]\n",
    "        number = float(number)\n",
    "    followers_count = number * notation[number_notation]\n",
    "    return int(followers_count)"
   ]
  },
  {
   "cell_type": "code",
   "execution_count": 9,
   "id": "b1605ead",
   "metadata": {},
   "outputs": [],
   "source": [
    "def return_profile_vs_followers(all_top_profiles) :\n",
    "    profile_vs_followers_dict = dict()\n",
    "    for profile in all_top_profiles :\n",
    "        driver.get(profile)\n",
    "        wait = WebDriverWait(driver, 5)\n",
    "        followers_element = wait.until(EC.presence_of_element_located((By.XPATH, '//a/span[starts-with(@class, \"_ac2a\")]')))\n",
    "        follower_count = get_follower_count(followers_element)\n",
    "        accountName = get_account_name(profile)\n",
    "        \n",
    "        profile_vs_followers_dict[accountName] = follower_count\n",
    "    \n",
    "    return profile_vs_followers_dict"
   ]
  },
  {
   "cell_type": "code",
   "execution_count": 10,
   "id": "6587dc52",
   "metadata": {},
   "outputs": [],
   "source": [
    "def get_account_name(profile_link) :\n",
    "    return profile_link.split('/')[-2]"
   ]
  },
  {
   "cell_type": "code",
   "execution_count": 11,
   "id": "49a027f3",
   "metadata": {},
   "outputs": [],
   "source": [
    "def sort_dict(myDict) :\n",
    "    keys = list(myDict.keys())\n",
    "    values = list(myDict.values())\n",
    "    sorted_value_index = np.argsort(values)\n",
    "    sorted_dict = {keys[i]: values[i] for i in sorted_value_index}\n",
    "    return sorted_dict"
   ]
  },
  {
   "cell_type": "markdown",
   "id": "7a16cae8",
   "metadata": {},
   "source": [
    "#### Calling Function"
   ]
  },
  {
   "cell_type": "code",
   "execution_count": 12,
   "id": "49da8a54",
   "metadata": {},
   "outputs": [],
   "source": [
    "top_5_handles_vs_followers = get_top_5_handles()"
   ]
  },
  {
   "cell_type": "code",
   "execution_count": 13,
   "id": "3f8a5cb6",
   "metadata": {},
   "outputs": [],
   "source": [
    "top_5_handles_vs_followers\n",
    "top_5_handles = list(top_5_handles_vs_followers.keys())"
   ]
  },
  {
   "cell_type": "markdown",
   "id": "ab554cc8",
   "metadata": {},
   "source": [
    "#### 1.1: Output"
   ]
  },
  {
   "cell_type": "code",
   "execution_count": 14,
   "id": "b22529c9",
   "metadata": {},
   "outputs": [
    {
     "name": "stdout",
     "output_type": "stream",
     "text": [
      "Profile : Followers\n",
      "\n",
      "dilsefoodie : 1100000\n",
      "funfoodandfrolic : 483000\n",
      "bbuzzz08 : 348000\n",
      "foodtalkindia : 309000\n",
      "food : 182000\n"
     ]
    }
   ],
   "source": [
    "print('Profile : Followers', end = '\\n\\n')\n",
    "for key in top_5_handles_vs_followers :\n",
    "    print(key, ':' ,top_5_handles_vs_followers[key])"
   ]
  },
  {
   "cell_type": "markdown",
   "id": "ba7f9a8b",
   "metadata": {},
   "source": [
    "#### 1.2: Now Find the number of posts these handles have done in the previous 3 days. "
   ]
  },
  {
   "cell_type": "code",
   "execution_count": 15,
   "id": "9d43a34e",
   "metadata": {},
   "outputs": [],
   "source": [
    "def make_links(profiles) :\n",
    "    for i in range(len(profiles)) :\n",
    "        profile = profiles[i]\n",
    "        link = 'https://www.instagram.com/' + profile + '/'\n",
    "        profiles[i] = link"
   ]
  },
  {
   "cell_type": "code",
   "execution_count": 16,
   "id": "d78af039",
   "metadata": {},
   "outputs": [],
   "source": [
    "def get_profile_vs_posts(profiles) :\n",
    "    profile_vs_posts = dict()\n",
    "    for profile in profiles :\n",
    "        time.sleep(1)\n",
    "        post_count = get_post_count(profile)\n",
    "        name = get_account_name(profile)\n",
    "        \n",
    "        profile_vs_posts[name] = post_count\n",
    "    \n",
    "    return profile_vs_posts"
   ]
  },
  {
   "cell_type": "code",
   "execution_count": 17,
   "id": "022bb732",
   "metadata": {},
   "outputs": [],
   "source": [
    "def return_duration(post) :\n",
    "    time.sleep(1)\n",
    "    post.click()\n",
    "    time.sleep(1)\n",
    "    wait = WebDriverWait(driver, 5)\n",
    "    duration_element = wait.until(EC.presence_of_element_located((By.XPATH, \"//span[starts-with(@class, 'x1lliihq x1plvlek xryxfnj x1n2onr6 x193iq5w xeuugli x1fj9vlw x13faqbe x1vvkbs x1s928wv xhkezso x1gmr53x x1cpjm7i x1fgarty x1943h6x x1i0vuye x1yxbuor xo1l8bm x1roi4f4 x1s3etm8 x676frb x10wh9bi x1wdrske x8viiok x18hxmgj')]//time\")))\n",
    "    duration = duration_element.text\n",
    "    cross_element = wait.until(EC.presence_of_element_located((By.XPATH, \"//div[starts-with(@class, 'x160vmok x10l6tqk x1eu8d0j x1vjfegm')]/div[starts-with(@class, 'x1i10hfl x6umtig x1b1mbwd xaqea5y xav7gou x9f619 xe8uvvx xdj266r x11i5rnm xat24cr x1mh8g0r x16tdsg8 x1hl2dhg xggy1nq x1a2a7pz x6s0dn4 xjbqb8w x1ejq31n xd10rxx x1sy0etr x17r0tee x1ypdohk x78zum5 xl56j7k x1y1aw1k x1sxyh0 xwib8y2 xurb0ha')]\")))\n",
    "    cross_element.click()\n",
    "    time.sleep(1)\n",
    "    return duration"
   ]
  },
  {
   "cell_type": "code",
   "execution_count": 18,
   "id": "04fbc419",
   "metadata": {},
   "outputs": [],
   "source": [
    "def get_post_count(profile) :\n",
    "    time.sleep(1)\n",
    "    driver.get(profile)\n",
    "    time.sleep(1)\n",
    "    count = -1\n",
    "    finished = False\n",
    "    current_height = driver.execute_script(\"return document.body.scrollHeight;\")\n",
    "    while True :\n",
    "        wait = WebDriverWait(driver, 10)\n",
    "        posts = wait.until(EC.presence_of_all_elements_located((By.XPATH, '//article/div/div//a')))\n",
    "        \n",
    "        if count != -1 :\n",
    "            posts = posts[count : ]\n",
    "        else :\n",
    "            count = 0\n",
    "            \n",
    "            \n",
    "        for post in posts :\n",
    "            duration = return_duration(post)\n",
    "            duration = duration.lower().replace(' ', '')\n",
    "            if 'hour' in duration or 'minute' in duration :\n",
    "                count += 1\n",
    "            elif 'day' in duration :\n",
    "                date = int(duration[0])\n",
    "                if date == 1 or date == 2 or date == 3 :\n",
    "                    count += 1\n",
    "                else :\n",
    "                    finished = True\n",
    "                    break\n",
    "            else :\n",
    "                finished = True\n",
    "                break\n",
    "        \n",
    "        \n",
    "        if finished == True :\n",
    "            break\n",
    "        \n",
    "        driver.execute_script('window.scrollTo(0, arguments[0])', current_height)\n",
    "        time.sleep(0.5)\n",
    "        new_height = driver.execute_script(\"return document.body.scrollHeight;\")\n",
    "        \n",
    "        if current_height == new_height :\n",
    "            break\n",
    "        \n",
    "        current_height = new_height\n",
    "    \n",
    "    return count"
   ]
  },
  {
   "cell_type": "markdown",
   "id": "bcdfc08f",
   "metadata": {},
   "source": [
    "#### Calling Function"
   ]
  },
  {
   "cell_type": "code",
   "execution_count": 19,
   "id": "ec7875af",
   "metadata": {},
   "outputs": [],
   "source": [
    "profile_names = top_5_handles.copy()"
   ]
  },
  {
   "cell_type": "code",
   "execution_count": 20,
   "id": "bdf5c8c2",
   "metadata": {},
   "outputs": [],
   "source": [
    "make_links(top_5_handles)"
   ]
  },
  {
   "cell_type": "code",
   "execution_count": 21,
   "id": "c0ad9cfc",
   "metadata": {},
   "outputs": [],
   "source": [
    "profile_vs_posts = get_profile_vs_posts(top_5_handles)"
   ]
  },
  {
   "cell_type": "markdown",
   "id": "7c193d1b",
   "metadata": {},
   "source": [
    "#### 1.2: Output"
   ]
  },
  {
   "cell_type": "code",
   "execution_count": 22,
   "id": "e85846c1",
   "metadata": {},
   "outputs": [
    {
     "name": "stdout",
     "output_type": "stream",
     "text": [
      "Profile : Number of Posts in last 3 days\n",
      "\n",
      "dilsefoodie : 10\n",
      "funfoodandfrolic : 0\n",
      "bbuzzz08 : 0\n",
      "foodtalkindia : 6\n",
      "food : 2\n"
     ]
    }
   ],
   "source": [
    "print('Profile : Number of Posts in last 3 days', end = '\\n\\n')\n",
    "for key in profile_vs_posts :\n",
    "    print(key, \":\" ,profile_vs_posts[key])"
   ]
  },
  {
   "cell_type": "markdown",
   "id": "a2246994",
   "metadata": {},
   "source": [
    "#### 1.3: Depict this information using a suitable graph. "
   ]
  },
  {
   "cell_type": "code",
   "execution_count": 23,
   "id": "4b460f2b",
   "metadata": {},
   "outputs": [],
   "source": [
    "profile_vs_posts = sort_dict(profile_vs_posts)\n",
    "profile_vs_posts = dict(reversed(list(profile_vs_posts.items())))"
   ]
  },
  {
   "cell_type": "code",
   "execution_count": 24,
   "id": "24c164ee",
   "metadata": {},
   "outputs": [],
   "source": [
    "top_5_handles_vs_followers\n",
    "profiles = list(top_5_handles_vs_followers.keys())\n",
    "followers = list(top_5_handles_vs_followers.values())"
   ]
  },
  {
   "cell_type": "markdown",
   "id": "c213f51f",
   "metadata": {},
   "source": [
    "#### 1.3 Output"
   ]
  },
  {
   "cell_type": "code",
   "execution_count": 25,
   "id": "ebc82969",
   "metadata": {},
   "outputs": [
    {
     "name": "stdout",
     "output_type": "stream",
     "text": [
      "dilsefoodie : 1100000\n",
      "funfoodandfrolic : 483000\n",
      "bbuzzz08 : 348000\n",
      "foodtalkindia : 309000\n",
      "food : 182000\n"
     ]
    },
    {
     "data": {
      "image/png": "[encoded data removed]",
      "text/plain": [
       "<Figure size 640x480 with 1 Axes>"
      ]
     },
     "metadata": {},
     "output_type": "display_data"
    }
   ],
   "source": [
    "plt.bar(profiles, followers, color = 'green')\n",
    "plt.xlabel('Profiles')\n",
    "plt.ylabel('No. Of Followers')\n",
    "plt.title('Profiles VS Followers')\n",
    "plt.xticks(rotation = 30)\n",
    "for i in range(len(profiles)) :\n",
    "    print(profiles[i], \":\" ,followers[i])\n",
    "plt.show()"
   ]
  },
  {
   "cell_type": "code",
   "execution_count": 26,
   "id": "cac7fdd2",
   "metadata": {},
   "outputs": [],
   "source": [
    "profile_vs_posts\n",
    "profiles = list(profile_vs_posts.keys())\n",
    "followers = list(profile_vs_posts.values())"
   ]
  },
  {
   "cell_type": "code",
   "execution_count": 27,
   "id": "c3e7ade5",
   "metadata": {},
   "outputs": [
    {
     "name": "stdout",
     "output_type": "stream",
     "text": [
      "dilsefoodie : 10\n",
      "foodtalkindia : 6\n",
      "food : 2\n",
      "bbuzzz08 : 0\n",
      "funfoodandfrolic : 0\n"
     ]
    },
    {
     "data": {
      "image/png": "[encoded data removed]",
      "text/plain": [
       "<Figure size 640x480 with 1 Axes>"
      ]
     },
     "metadata": {},
     "output_type": "display_data"
    }
   ],
   "source": [
    "plt.bar(profiles, followers, color = 'purple')\n",
    "plt.xlabel('Profiles')\n",
    "plt.ylabel('No. Of Posts')\n",
    "plt.title('Number of Posts in last 3 days')\n",
    "plt.xticks(rotation = 30)\n",
    "for i in range(len(profiles)) :\n",
    "    print(profiles[i], \":\" ,followers[i])\n",
    "plt.show()"
   ]
  },
  {
   "cell_type": "markdown",
   "id": "51d6abf9",
   "metadata": {},
   "source": [
    "### Problem 2: Your friend also needs a list of hashtags that he should use in his posts.\n",
    "\n",
    "1. Open the 5 handles you obtained in the last question, and scrape the content of the first 10 posts of each handle.\n",
    "    \n",
    "2. Prepare a list of all words used in all the scraped posts and calculate the frequency of each word.\n",
    "    \n",
    "3. Create a csv file with two columns : the word and its frequency\n",
    "    \n",
    "4. Now, find the hashtags that were most popular among these bloggers\n",
    "    \n",
    "5. Plot a Pie Chart of the top 5 hashtags obtained and the number of times they were used by these bloggers in the scraped posts."
   ]
  },
  {
   "cell_type": "markdown",
   "id": "e48cb6a2",
   "metadata": {},
   "source": [
    "#### 2.1: Open the 5 handles you obtained in the last question, and scrape the content of the first 10 posts of each handle."
   ]
  },
  {
   "cell_type": "code",
   "execution_count": 28,
   "id": "683375e5",
   "metadata": {},
   "outputs": [],
   "source": [
    "def return_scraped_data(top_5_handles) :\n",
    "    output = []\n",
    "    for profile in top_5_handles :\n",
    "        driver.get(profile)\n",
    "        posts = get_posts_link()\n",
    "        get_caption(posts, output)\n",
    "    return output"
   ]
  },
  {
   "cell_type": "code",
   "execution_count": 29,
   "id": "6bd2d570",
   "metadata": {},
   "outputs": [],
   "source": [
    "def get_posts_link() :\n",
    "    time.sleep(2)\n",
    "    current_height = driver.execute_script(\"return document.body.scrollHeight;\")\n",
    "    time.sleep(2)\n",
    "    \n",
    "    while True :\n",
    "        \n",
    "        driver.execute_script('window.scrollTo(0, arguments[0])', current_height)\n",
    "        \n",
    "        new_height = driver.execute_script(\"return document.body.scrollHeight;\")\n",
    "        \n",
    "        wait = WebDriverWait(driver, 10)\n",
    "        posts = wait.until(EC.presence_of_all_elements_located((By.XPATH, '//article/div/div//a')))\n",
    "        \n",
    "        if len(posts) > 10 :\n",
    "            break\n",
    "            \n",
    "        if current_height == new_height :\n",
    "            break\n",
    "            \n",
    "        current_height = new_height\n",
    "        \n",
    "    if len(posts) >= 10 :\n",
    "        posts = posts[0 : 10]\n",
    "        \n",
    "    return posts"
   ]
  },
  {
   "cell_type": "code",
   "execution_count": 30,
   "id": "32492bb1",
   "metadata": {},
   "outputs": [],
   "source": [
    "def get_caption(posts, output) :\n",
    "    \n",
    "    for post in posts :\n",
    "        post.click()\n",
    "        \n",
    "        wait = WebDriverWait(driver, 10)\n",
    "        \n",
    "        caption_element = wait.until(EC.presence_of_element_located((By.XPATH, \"//div[@class = '_a9zs']/h1[starts-with(@class, '_aacl _aaco _aacu _aacx _aad7 _aade')]\")))   \n",
    "        caption = caption_element.text\n",
    "        \n",
    "        output.append(caption)\n",
    "        \n",
    "        cross_element = wait.until(EC.presence_of_element_located((By.XPATH, \"//div[starts-with(@class, 'x160vmok x10l6tqk x1eu8d0j x1vjfegm')]/div[starts-with(@class, 'x1i10hfl x6umtig x1b1mbwd xaqea5y xav7gou x9f619 xe8uvvx xdj266r x11i5rnm xat24cr x1mh8g0r x16tdsg8 x1hl2dhg xggy1nq x1a2a7pz x6s0dn4 xjbqb8w x1ejq31n xd10rxx x1sy0etr x17r0tee x1ypdohk x78zum5 xl56j7k x1y1aw1k x1sxyh0 xwib8y2 xurb0ha')]\"))) \n",
    "        cross_element.click()"
   ]
  },
  {
   "cell_type": "markdown",
   "id": "34be2d7f",
   "metadata": {},
   "source": [
    "#### Calling Function"
   ]
  },
  {
   "cell_type": "code",
   "execution_count": 31,
   "id": "07bedd07",
   "metadata": {},
   "outputs": [],
   "source": [
    "scraped_data = return_scraped_data(top_5_handles)"
   ]
  },
  {
   "cell_type": "markdown",
   "id": "057ac613",
   "metadata": {},
   "source": [
    "#### 2.1: Output"
   ]
  },
  {
   "cell_type": "code",
   "execution_count": 32,
   "id": "5da2fb64",
   "metadata": {},
   "outputs": [
    {
     "name": "stdout",
     "output_type": "stream",
     "text": [
      "Gwalior Famous Panwadi Poha For Breakfast\n",
      "Even @kartikaaryan Also Visit Here During Movie Shoots In Gwalior.\n",
      "#dilsefoodie #dilsecouple #foodie #food #poha\n",
      "Weather Ki Demand Garma Garam Pakode\n",
      "Bhai Log Tyaari Shuru Karlo Kadhai Bahar Nikal Lo Mustad Oil Dekhlo Pada Hua Hai Na And Aloo Pyaaz Ya Pala Cut Karke Rakhlo Besan Bhi Check Karlo 😂😂.\n",
      "#dilsefoodie #dilsecouple #pakode #rain #barish #food #streetfood\n",
      "100+ Variety Of Achara At 7 Manjila Mandir, Tilak Nagar\n",
      "#dilsefoodie #dilsecouple #food #achar #streetfood\n",
      "Finally I Had The Most Popular Butter Chicken By Chef @saranshgoila .\n",
      "\n",
      "@goilabutterchicken\n",
      "And If You Wanna Try This Amazing Smokey Butter Chicken Then Order Now On Swiggy And Zomato Its Available Delhi, Gurgaon And Noida 😃.\n",
      "\n",
      "For Vegetarians I Recommend Must Try Panner Makhani Biryani And Nonveg Walo Tum To Sab Khaa Ke Dekho 😂😂 Maza Ajayega.\n",
      "#dilsefoodie #goilabutterchicken #chefsaranshgoila #sadakchef #saranshgoila #butterchicken #ohbhaisaab\n",
      "Ye Hai Jalandhar Ka Omelette King 🤴\n",
      "#dilsefoodie #dilsecouple #omelette #king\n",
      "One of the best shop in Amritsar for nonveg food.\n",
      "We tried this amazing keema naan with keema gravy at @bubby_fish_chicken_corner\n",
      "#dilsefoodie #dilsecouple #amritsar #food #nonvegfood #keemanaan #naan #streetfood\n",
      "One Of The Best Place In Jalandhar For Nonveg Food At Bhatija Tikke Wala\n",
      "#dilsefoodie #food #nonvegfood #streetfood #jalandhar\n",
      "Making Of Shahi Samosa At SHAHI SAMOSA, Jodhpur\n",
      "Weather Ki Demand Hai Bhai Log Samosa And Chai\n",
      "#dilsefoodie #dilsecouple #foodie #food #Samosa\n",
      "Gulzari Laal Ji Ke Chole Bhature In Mustad Oil\n",
      "Have You Been To This Place In Jalandhar ???\n",
      "#dilsefoodie #dilsecouple #cholebhature #food #streetfood\n",
      "Ye Log Tikki Ko Tikki Nahi Bolte Isse Kehte Hai Bhalla 😳.\n",
      "Kanhaya Seeets, Bharatpur\n",
      "#dilsefoodie #foodie #streetfood #food #alootikki\n",
      "BIG NEWS 🎉 My First international cookbook is here - The 100 BEST CURRIES 🍲 Can't believe I am an author now 🥹 Hit the PRE - ORDER button in my bio to place order of your copy in India, USA, UK, and Canada. Hope you all love the book and support me in this new journey 💗 @pagestreetpublishing @panmacmillanindia #cookbook #indianrecipes #indianfoodlovers #hinagujral #indianfood #currylover\n",
      "Healthy Oats Banana Pancake 🥞🍌GF + Vegan + Sugar-free\n",
      "\n",
      "🔸No Sugar\n",
      "🔸No Eggs\n",
      "🔸No Flour\n",
      "🔸Kid Friendly\n",
      "\n",
      "Ingredients For Batter 👇\n",
      "\n",
      "2/3 Cup oats\n",
      "1 tablespoon flaxseeds\n",
      "1/4 teaspoon baking powder\n",
      "1/4 teaspoon baking soda\n",
      "1/4 teaspoon cinnamon powder\n",
      "1/4 teaspoon cardamom powder\n",
      "1/4 teaspoon salt\n",
      "\n",
      "2 pitted dates\n",
      "2 overripe banana\n",
      "1/3 Cup coconut milk\n",
      "\n",
      "#glutenfreevegan #healthybreakfast #pancakerecipe #oatsforbreakfast #reelsinstagram #bananapancakes #healthychoices #breakfastrecipes #veganbreakfast #sugarfreediet\n",
      "Masala Chana Avocado Toast 🥑 One of the best vegetarian Avo Toasts 😍\n",
      "\n",
      "🔸Vegan\n",
      "🔸Nuts Free\n",
      "🔸High Protein\n",
      "\n",
      "Ingredients For Masala Chana 👇\n",
      "1 Cup chana (chickpea)\n",
      "1 teaspoon olive oil\n",
      "1 teaspoon cumin powder\n",
      "1/2 teaspoon red chili powder\n",
      "1/2 teaspoon turmeric powder\n",
      "1/4 teaspoon garam masala\n",
      "1/4 teaspoon salt\n",
      "\n",
      "Ingredients For Avocado 👇\n",
      "1 ripe avocado\n",
      "1 teaspoon chilli flakes\n",
      "1 teaspoon oregano\n",
      "1 grated garlic clove\n",
      "Salt & Pepper\n",
      "1 teaspoon lemon juice\n",
      "\n",
      "Sourdough Bread Slices\n",
      "\n",
      "#avocadotoast #avocadolover #breakfastideas #veganfoodshare #reelsinstagram #healthychoices #avocadorecipes #vegetarianmeals #healthyrecipes #veganbreakfast\n",
      "Low Calorie Oats Soup 🍲 It is a perfectly wholesome meal.\n",
      "\n",
      "🔸Gluten Free\n",
      "🔸No Nuts\n",
      "🔸Healthy\n",
      "🔸Vegan\n",
      "\n",
      "Ingredients For Soup 👇\n",
      "1 tablespoon light olive oil\n",
      "1 teaspoon garlic\n",
      "1 teaspoon ginger\n",
      "1 teaspoon celery\n",
      "1 teaspoon coriander Stalks\n",
      "1/4 Cup onion\n",
      "1/4 Cup rolled oats\n",
      "1 Cup mixed vegetables (mushroom, beans, carrot, cabbage)\n",
      "2 Cup vegetable stock\n",
      "1 teaspoon salt\n",
      "1/2 teaspoon black pepper\n",
      "1 tablespoon green onion\n",
      "1 tablespoon chopped coriander\n",
      "\n",
      "#souprecipe #lowcaloriemeals #glutenfreevegan\n",
      "#reelsinstagram #oatsrecipe #healthyeating #healthysoup #lowcaloriediet #eatyourveggies #oatspiration\n",
      "Warning ⚠️ This Chilli Oil Dip is addictive. Once you start making it at home you'll make it again and again 🤪\n",
      "\n",
      "🔸Meal Prep Friendly\n",
      "🔸Gluten Free\n",
      "🔸No MSG\n",
      "🔸Vegan\n",
      "\n",
      "Ingredients For Chilli Oil 👇\n",
      "\n",
      "4 tablespoon chilli flakes\n",
      "2 tablespoon chilli powder\n",
      "2 tablespoon garlic\n",
      "1 tablespoon sesame seeds\n",
      "2 teaspoon salt\n",
      "2 teaspoon brown sugar\n",
      "1 Cup sesame oil\n",
      "1 cinnamon stick\n",
      "1 bay leaf\n",
      "2 star anise\n",
      "1 teaspoon pepper corn\n",
      "2 slices of ginger\n",
      "\n",
      "#chillioil #glutenfreevegan #chillioilnoodles #vegetarianfood #reelsinstagram #dippingsauce #koreanfood #chilioil #veganrecipes #msgfreefood\n",
      "Healthy Navratan Barley Pulao 🍲 Easy One Pot Dinner 😍\n",
      "\n",
      "🔸Vegan\n",
      "🔸Wholesome\n",
      "🔸Nutrient Rich\n",
      "🔸Pressure Cooker Recipe\n",
      "\n",
      "Ingredients For Pulao 👇\n",
      "1/3 Cup Pearl Barley\n",
      "2 tablespoon coconut oil\n",
      "1 teaspoon cumin\n",
      "1 bay leaf\n",
      "4 cloves\n",
      "1 cinnamon stick\n",
      "1 black cardamom\n",
      "2 green cardamom\n",
      "1 tablespoon garlic\n",
      "1 tablespoon almond\n",
      "1 tablespoon cashew\n",
      "1 tablespoon coconut flakes\n",
      "1/4 Cup onion\n",
      "1/2 Cup mixed vegetables\n",
      "1 1/4 teaspoon salt\n",
      "1 teaspoon Garam Masala\n",
      "1/2 teaspoon pepper powder\n",
      "1/2 Cup water\n",
      "1/2 Cup baby spinach\n",
      "1 tablespoon golden raisins\n",
      "1 tablespoon dried cranberries\n",
      "\n",
      "#healthyrecipes #indianrecipes #veganrecipes #vegetarianmeals #reelsinstagram #onepotmeal #healthychoices #dinnerideas #pulaorecipe #milletrecipes\n",
      "Healthy Oats Namkeen 😎 Easy one pan Indian Trail Mix that you can munch anytime, anywhere guilt free 😉\n",
      "\n",
      "🔸 Gluten Free\n",
      "🔸 Guilt Free\n",
      "🔸 Vegan\n",
      "\n",
      "Ingredients For Oats Namkeen 👇\n",
      "1 Cup whole oats\n",
      "1 Cup thin poha\n",
      "1 tablespoon sesame oil\n",
      "2 teaspoon mustard seeds\n",
      "2 teaspoon white Urad\n",
      "4 dried red chillies\n",
      "8 - 10 curry leaves\n",
      "1/4 Cup peanuts\n",
      "1/4 Cup almond\n",
      "1/4 Cup cashew\n",
      "1/4 Cup coconut flakes\n",
      "1/4 Cup pumpkin seeds\n",
      "1/4 Cup sunflower seeds\n",
      "1 tablespoon golden raisins\n",
      "1 tablespoon dried cranberries\n",
      "1 tablespoon black currant\n",
      "2 teaspoon salt\n",
      "2 teaspoon chilli powder\n",
      "2 teaspoon Chaat masala\n",
      "1 teaspoon turmeric powder\n",
      "\n",
      "#healthyeating #glutenfreevegan #indiansnacks #snackrecipes #reelsinstagram #healthyrecipes #trailmix #namkeen #healthyfood #snackideas\n",
      "Roasted Corn Salad 🌽 Sweet + Spicy + Smokey\n",
      "\n",
      "🔸Gluten Free\n",
      "🔸Low Calorie\n",
      "🔸Fibre Rich\n",
      "🔸Healthy\n",
      "🔸Vegan\n",
      "\n",
      "Ingredients For Seasoning 👇\n",
      "1 teaspoon salt\n",
      "1 teaspoon cumin powder\n",
      "1/2 teaspoon chilli powder\n",
      "1 tablespoon lemon juice\n",
      "1 tablespoon EVOO (optional)\n",
      "\n",
      "#saladrecipes #saladideas #glutenfreevegan #healthysalad #reelsinstagram #cornsalad #vegetariansalad #healthychoices #eatyourcolors #saladsofinstagram\n",
      "Ep 6 ~ Air FRY Day. Golden Crispy Potatoes 🤤\n",
      "\n",
      "They are the best snack for Friday movie night with martinee. Minimal Effort. Maximum Crunch.\n",
      "\n",
      "🔸 Gluten Free\n",
      "🔸 Vegetarian\n",
      "🔸 Nuts Free\n",
      "\n",
      "Ingredients Required 👇\n",
      "\n",
      "250 gram medium size potato\n",
      "1/8 Cup cup olive oil\n",
      "salt and black pepper\n",
      "1 teaspoon thyme\n",
      "1 teaspoon Italian seasoning\n",
      "1 teaspoon garlic powder\n",
      "2 tablespoon parmesan cheese\n",
      "\n",
      "#airfryercooking #airfryerrecipe #crispypotatoes #vegetariansnacks #glutenfreerecipes #snackideas #potatorecipes #snackrecipes #eatyourveggies #vegetarianrecipes\n",
      "GRAB & GO. Homemade Cuppa Noodles 🍜 that you can enjoy at office, while traveling or anytime, anywhere 😍\n",
      "\n",
      "🔸Vegan\n",
      "🔸Nuts Free\n",
      "🔸Easy To Carry\n",
      "🔸Meal Prep Friendly\n",
      "🔸You can use GF Noodles\n",
      "🔸Add protein like tofu/sprouts/peanuts\n",
      "\n",
      "Ingredients For Sauce 👇\n",
      "1 teaspoon garlic\n",
      "1 teaspoon Schezwan sauce\n",
      "1/2 teaspoon chilli powder\n",
      "1/2 teaspoon chilli flakes\n",
      "2 tablespoon sesame oil\n",
      "1/2 teaspoon light soy sauce\n",
      "1/2 teaspoon lemon juice\n",
      "1/2 teaspoon stock powder or cube\n",
      "\n",
      "Other Ingredients 👇\n",
      "Chopped Veggies\n",
      "Hot Water\n",
      "Instant Ramen or Regular Noodles\n",
      "\n",
      "#noodlesjar #instantnoodles #cuppanoodles #mealprepideas #reelsinstagram #jarnoodles #travelfood #noodlelover #veganfood #vegetarianmeals\n",
      "World’s first ever Husky cafe is in Bangkok & it is surely a pet lover’s paradise 💕\n",
      "\n",
      "-It is called True Love Cafe .\n",
      "-Entry fee 350 baht for an hour\n",
      "-There are about 35 huskies, they are very well kept & nurtured by the staff.\n",
      "-It is a tourist hot spot, so call & reserve in advance.\n",
      "\n",
      "Send this to a dog lover\n",
      ".\n",
      ".\n",
      ".\n",
      "\n",
      "#huskycafe #bangkok #huskycafebangkok #bangkokthailand #bangkoklife #petlover #petlovers #bangkoktrip #bangkok🇹🇭 #bangkokcafes #bangkokcafe #bbuzzz #bombaybuzzz #bbuzzzfinds\n",
      "Save & send this to someone who is travelling or planning their travel to Vietnam 🇻🇳\n",
      "1. There is NO VISA on arrival. Book your e visa atleast 10 days prior directly at this site 👉🏻 https://evisa.xuatnhapcanh.gov.vn/trang-chu-ttdt\n",
      "\n",
      "2. List of Jain & Veg restaurants in Vietnam in the above video ( screenshot & save it)\n",
      "\n",
      "3. If you book your flights via Vietjet, make sure you add additional baggage & meals & carry a bottle of water!\n",
      "\n",
      "4. Buy a sim with data via KLOOK\n",
      "\n",
      "5.Do NOT exchange currency at the airport ( do it in the market)\n",
      "HA TAM in Ho Chi Minh City\n",
      "\n",
      "Follow @bbuzzz08 for more 💕✨\n",
      ".\n",
      ".\n",
      ".\n",
      "#vietnam #vietjet #vietnamtravel #vietnamtrip #vietnamlife #india #travel #bbuzzz #bombaybuzzz #hochiminh #hanoi #hoian\n",
      "Bucketlist these 7 experiences in & around Mumbai!\n",
      "Book with @experiencesbybbuzzz 💕\n",
      "Follow @bbuzzz08 for more\n",
      ".\n",
      ".\n",
      ".\n",
      "#bbuzzz #bbuzzzfinds #bombay #mumbai #mumbaidiaries #things2doinmumbai #mumbaifood #helicopterride #bombaybuzzz\n",
      "(DM @brewyourexperiences for itinerary link)\n",
      "\n",
      "Hi guys 🤩\n",
      "We @bbuzzz08 & @theindianvacation are so elated to announce our first ever international group trip to TURKEY 🇹🇷\n",
      "Co hosted by @akbartravels\n",
      "\n",
      "Cost : ₹1,06,000 + GST + TCS\n",
      "for 10 days\n",
      "\n",
      "Age group: 18-35\n",
      "\n",
      "Dates : 11-19 August ( considering it’s a long weekend)\n",
      "\n",
      "Cities : Istanbul, Cappadocia,Antalya-Pamukkale-Kekova\n",
      "\n",
      "•This is going to be a mix of parties, pub crawls, adventures & so many surprises\n",
      "\n",
      "• The cost does not include international flights, visa & hot air balloon\n",
      "\n",
      "• All activities, 4 star hotels,few meals,internal transfers,2 domestic flights are included in the above cost\n",
      "\n",
      "•Answering all your queries over stories, check highlight “Turkey 2023”\n",
      "\n",
      "PS: we have over 700 inquiries for this one, but we have 20 slots open only on first come first serve basis.\n",
      "\n",
      "Come solo or with a friend for this one, we promise you’ll have the best time ever & meet the nicest people & go back with a bag full of memories. 💃\n",
      "#grouptrip #turkey\n",
      "My favourite thing to do in Mumbai monsoon 🌧️🫶🏻☔️\n",
      "Take an open bus ride across all the best spots of the city!\n",
      "•Starts at Gateway of India\n",
      "• ₹150 for a person\n",
      "Send this to someone you want to experience this with🫶🏻\n",
      ".\n",
      ".\n",
      ".\n",
      "#marindrive #mumbairains #monsoon #mumbaimonsoon #mumbairain #rains #narimanpoint #gatewayofindia #bbuzzz #bombaybuzzz\n",
      "Share this with someone who is looking out for student accommodations!✨\n",
      "@thehivehostels is located at 9 cities pan India!\n",
      "Mumbai, Delhi, Noida, Greater Noida, Dehradun Bangalore, Ahmedabad, Vadodara & Jaipur\n",
      "•Budget + Luxury hostel\n",
      "• 100% safety ( they have separate only girls hostels as well)\n",
      "•Very neat + rooms having all the basic amenities\n",
      "•All hostels have wifi,cycles,cafés with live food counters,staff assistance, a workout area & so much moree!\n",
      "Checkout @thehivehostels now\n",
      "Follow @bbuzzz08 for more such content\n",
      ".\n",
      ".\n",
      ".\n",
      "#bbuzzz #hostels #india #mumbai #mumbaidiaries #bombaybuzzz #nmims #mithibai #vileparle #hivehostels\n",
      "#BbuzzzFinds : a pet friendly vacation home with loads of activities ✨\n",
      "It is called @jag24manor\n",
      "📍Manor ( 2.5 hours from Mumbai)\n",
      "• It has a private lake with kayaking & boating\n",
      "• A separate games cottage\n",
      "• It is 4 BHK\n",
      "• Veg/ Jain food can be made on request\n",
      "• a huge lawn with cycling,cricket,badminton,football\n",
      "Save & share this!\n",
      "You can DM @jag24manor for more details\n",
      "@bbuzzz08\n",
      ".\n",
      ".\n",
      ".\n",
      "#manor #palghar #villa #bbuzzz #bombaybuzzz #mumbai #maharastra #villasinmumbai\n",
      "LIVING THE DREAM 💕\n",
      "2 years back this was just a dream..(more like something I manifested) from handling social media accounts for travel bloggers (yes that’s true) to having my own family of over 3 lakh people.. it feels surreal\n",
      "From people recognising me not only in Mumbai but also abroad, it does feel overwhelming\n",
      "From saving for trips to getting paid for trips!\n",
      "Been to over 1000 places big or small, in these last 2 years, have made sooo many beautiful memories , experienced the finest, I feel nothing but blessed\n",
      "So, this is your reminder to chase your dreams ✨🫶🏻\n",
      ".\n",
      ".\n",
      ".\n",
      "@anumita.nadesan #KhoyaKhoya #mumbai #india #travel #bbuzzz #bombaybuzzz\n",
      "#BbuzzzFinds : the best stress relief Center in Mumbai! @ayushakti is one of the leading brands in Ayurveda, from doctor consultations to the great therapies, they’ll have the best guidance for you.\n",
      "If you’re looking for a vibrant lifestyle, you have to try Ayushakti once!\n",
      ".\n",
      ".\n",
      ".\n",
      "#mumbai #ayurveda #ayurvedic #ayurvedalifestyle #bombay #bbuzzz #bombaybuzzz\n",
      "Europe was super hectic! But the Get set glow starter kit from @sixam_glow has really helped throughout my city travels in Europe!\n",
      "It comes with a super cute pouch, a headband, a double duty cleanser that removed all my makeup,sunscreen,dirt & a night mask for that “Six Am Glow”\n",
      "It is so travel friendly & convenient.\n",
      "Available on Six Am Glow website & Amazon with a flat 20% off\n",
      ".\n",
      ".\n",
      "#travel #travelessential #mumbai #india #travelfriendly\n",
      "Experience India’s top bartenders shaking and stirring cocktails for you, all under one roof! 🥂\n",
      "\n",
      "Come sip on cocktails at the World Class Cocktail Festival!🍸\n",
      "\n",
      "Sip, Savor, and Celebrate with @worldclass.in at @adotgnh convention! 🥳\n",
      "\n",
      "When: 1st - 2nd July 2023, 4pm to Midnight ✨\n",
      "Where: A Dot Convention, Gurugram 📍\n",
      "\n",
      "Grab your tickets now from the link in bio! 🎟️\n",
      ".\n",
      ".\n",
      ".\n",
      "#worldclasscocktailfestival #aglassofworldclass #wccf #delhi #cocktails #drinks #foodtalkindia #delicious #yummy #discover\n",
      "Monsoon season calls for stepping out or ordering in! 😋\n",
      "\n",
      "So, here are @vidurmayor ‘s recommendations for all day dining spots that are perfect to try on a rainy day. 🍽️🤤\n",
      "\n",
      "Tell us your go-to spots and save this list for later!✨\n",
      ".\n",
      ".\n",
      ".\n",
      "#ftiinsider #rainyday #alldaydining #restaurants #delhi #flavours #food #foodtalkindia #delicious #yummy #discover\n",
      "Immerse yourself in exciting experiential zones at the World Class Cocktail Festival!\n",
      "\n",
      "From Iconic Flavors, Magnificent Moments to Decadent Treats and more, the biggest cocktail festival is all set to give you a weekend to remember!\n",
      "\n",
      "Sip, Savor, and Celebrate with @worldclass.in at @adotgnh convention! 🍸\n",
      "\n",
      "When: 1st - 2nd July 2023, 4pm to Midnight ✨\n",
      "Where: A Dot Convention, Gurugram 📍\n",
      "\n",
      "Head over to the link in bio to get your tickets now! 🎟️\n",
      ".\n",
      ".\n",
      ".\n",
      "#worldclasscocktailfestival #aglassofworldclass #wccf #delhi #MakeItWorldClass #WorldClass #WorldClassIN #WorldClass2023 #AGlassOfWorldClass\n",
      "#cocktails #drinks #foodtalkindia #delicious #yummy #discover\n",
      "It’s no secret that Old Delhi has the most iconic eateries in the capital. So this Eid, we embarked on a flavorful journey through the streets of Jama Masjid! 🌙🍽️\n",
      "\n",
      "From Aromatic biryanis, succulent kebabs, sweet Shahi Tukda and more! Here’s our picks from the epic food trail, even though the experience is indescribable. 🤤🥘🍗\n",
      "\n",
      "Special mentions to our rickshaw bhaiyas: Jameel bhaiya, Rizwan bhaiya and Sameer bhaiya for showing us the best of Old Delhi.🙌🏻\n",
      "\n",
      "Tell us your go-to places and share this with your friends.✨\n",
      ".\n",
      ".\n",
      ".\n",
      "#JamaMasjid #Eid #FoodTrail #CulinaryHeritage #TasteOfHistory #food #foodtalkindia #delicious #yummy #discover\n",
      "Get ready for a tantalising experience from the bustling streets of Old Delhi as we take you on a mesmerizing journey through the iconic eateries of Jama Masjid. 🤤🍽️\n",
      "\n",
      "Stay tuned and prepare to be tempted!😋\n",
      ".\n",
      ".\n",
      ".\n",
      "#JamaMasjid #Eid #FoodTrail #CulinaryHeritage #TasteOfHistory #food #foodtalkindia #delicious #yummy #discover\n",
      "#NewInTown @chard.india\n",
      "Guess what? You can now get your hands on the juiciest burgers in town at their all new restaurant! 🍔🤤\n",
      "\n",
      "Chard has captivated hearts of every burger lover with its exceptional quality and unique flavour profiles. 🤌🏻✨\n",
      "\n",
      "This extraordinary dine-in experience will let you dig into delectable small plates such as pimento cheese poppers, charred corn ribs, southern fried fish fingers and calibrian grilled prawns. 😋🍽️\n",
      "\n",
      "To further enhance the indulgence, their all new range of signature ice cream floats and soft serve sundaes, featuring velvety ice cream paired with classic and innovative soda combinations, will leave you nostalgic.🥘🍨\n",
      "\n",
      "When: 12:30pm to 11pm, ALL DAYS ✨\n",
      "Where: 38, 1st Floor, Basant Lok Market, Vasant Vihar, New Delhi\n",
      "\n",
      "Share this with your friends and save it for later! 💃🏻\n",
      ".\n",
      ".\n",
      ".\n",
      "#chardindia #burgers #delhi #flavours #food #foodtalkindia #delicious #yummy #discover\n",
      "#NewInTown @nomadindia_\n",
      "You can now dine-in at this popular pizza brand’s vibrant new restaurant in the capital! 🤤🍕\n",
      "\n",
      "From its successful journey as a cloud kitchen, NOMAD is excited to bring its complete culinary experience to you with a wide range of irresistible concoctions from around the globe.🌎😋\n",
      "\n",
      "Indulge in lip-smacking world pizzas, world coffees and other world-class appetisers and more. The restaurant aims to strike a balance between a comfortable dining experience and an energetic atmosphere. 😋👯‍♀️\n",
      "\n",
      "When: 11am to 12am, ALL DAYS ✨\n",
      "Where: M-50, Third Floor, M Block Market, Greater Kailash 2, New Delhi📍\n",
      "\n",
      "Share this with your pizza loving friends and save it for later!🍕\n",
      ".\n",
      ".\n",
      ".\n",
      "#nomadindia #nomadpizza #delhi #pizza #flavours #food #foodtalkindia #delicious #yummy #discover\n",
      "#NewInTown @pret.india\n",
      "The popular UK based coffee and sandwich shop opened its first ever store in Gurugram this week. 🇬🇧☕️\n",
      "\n",
      "The shop is known for its delicious selection of “to-go” eats and drinks like sandwiches, fresh juices and organic coffee. 🥪😋\n",
      "\n",
      "This store opening has enabled Pret enthusiasts to savor on their favorite classics and newbies to try out their tempting variety of freshly baked and made goods. 🥐🤤\n",
      "\n",
      "What makes this coffee and sandwich shop different is that each item is meticulously hand-prepared in the onsite kitchen, free from additives and preservatives, and never kept overnight. ☕️😋\n",
      "\n",
      "When: 8:30am to 11:30pm, ALL DAYS ✨\n",
      "Where: DLF Cyberhub, DLF Phase 2, Sector 24, Gurugram 📍\n",
      "\n",
      "Make sure to head over and try out their sandwiches!👯‍♀️\n",
      ".\n",
      ".\n",
      ".\n",
      "#pretamanger #pretindia #morning #food #drinks #sandwich #foodtalkindia #delicious #yummy #discover\n",
      "There are 2 kinds of foodies: the ordering in kind and the stepping out kind. 🤔\n",
      "\n",
      "@indian_guy_cooking belongs to the latter and here’s a list of his recommended spots that serve food that’s worth going out for! 😋🍽️\n",
      "\n",
      "Tell us your go-to dishes and spots that you don’t mind stepping out for! ✨\n",
      ".\n",
      ".\n",
      ".\n",
      "#ftiinsider #food #goingout #delhi #foodtalkindia #delicious #yummy #discover\n",
      "When: 1st - 2nd July 2023, 4pm to Midnight ✨\n",
      "Where: A Dot Convention, Gurugram 📍\n",
      "\n",
      "The biggest cocktail festival of the year is here and we’re pumped! 🥳\n",
      "\n",
      "Sip, Savor, and Celebrate World Class Cocktail Festival at @adotgnh convention! 🍸\n",
      "\n",
      "Immerse yourself in the artistry of mixology with the finest cocktails made by India’s top bartenders as they compete for the world-class title. 👱‍♀️👨\n",
      "\n",
      "Come, discover extraordinary drinks and experience #AGlassOfWorldClass @worldclassin 🥂\n",
      "\n",
      "Head over to our link in bio and grab your tickets now! 🎟️\n",
      ".\n",
      ".\n",
      ".\n",
      "#worldclasscocktailfestival #aglassofworldclass #wccf #delhi #cocktails #drinks #foodtalkindia #delicious #yummy #discover\n",
      "If you love Hulu’s @thebearfx and have been craving one of those Italian Beef Sandwiches, you’re in luck. Twitter user (@mckiesdjlounge) has found Mr. Beef’s original recipe for an Italian beef sandwich, published in the Chicago Tribune in January 1990.\n",
      "\n",
      "The recipe\n",
      "Servings: Eight\n",
      "Estimated prep time: 20 minutes\n",
      "Estimated cook time: 50-55 minutes\n",
      "\n",
      "The recipe:\n",
      "• One teaspoon each of red pepper flakes, garlic powder, dried basil, dried oregano, freshly ground pepper\n",
      "• One half-teaspoon of salt\n",
      "• Two and a half pounds of sirloin tip roast\n",
      "• One cup of cold water\n",
      "• Eight soft, warmed Italian bread rolls\n",
      "• Pickled hot sports peppers/sliced sweet peppers at your discretion\n",
      "\n",
      "Heat oven to 450 degrees\n",
      "\n",
      "Combine all your seasonings in one dish and rub half of them across the meat\n",
      "Bake for 15 minutes at this temperature before reducing to 350 degrees and baking for another 20 minutes.\n",
      "\n",
      "After you’re done baking, take the pan out and pour cold water into the bottom of your pan. Let this stand for a bit to allow the fat to solidify, then throw out the fat.\n",
      "Throw in the remainder of your seasoning, put the pan back into the oven to bake to the meat level you want, with “rare” being ideal (130 degrees at 15 to 20 minutes).\n",
      "\n",
      "Once ready to serve, slice the meat into slices that have a paper-thin thickness. Putting your meat in the microwave for about 30 seconds should suffice for proper heating.\n",
      "\n",
      "The juices should be ladled/spooned over the bread first, then meat and peppers can be added after the fact to serve immediately.\n",
      "Saudi Arabia delivery app ‘HungerStation’ wants to save people who suffer from decision fatigue when it comes to food orders. Using AI and cutting-edge technology, ‘Subconscious Order’ is an app which taps into the subconscious mind to help the user decide what food they’re most in the mood for – eliminating the frustrations of decision fatigue that we all know so well when trying to pick food.\n",
      "\n",
      "According to a study by Seated, as quoted by the New York Post, the average adult spends around 132 hours a year looking at menus online. ‘Subconscious Order’ is designed for customers of HungerStation (Saudi Arabia’s version of Doordash or Deliveroo) and uses the camera on a mobile or desktop along with in-app eye calibration and vision AI to track the user’s eye movement. It then uses topic modelling AI to organize food options and present an instant report of what the eye lingered on the longest, to reveal the subconscious craving – generating a list of local restaurants where HungerStation customers can then order the food they desire the most.\n",
      "\n",
      "What are you’re eyes craving? 👀🍔🍕🌯🌭🍜\n",
      "\n",
      "#ai #artificialintelligence #fooddelivery #creativity\n",
      "Sweetfin took California by storm with their \"pole to bowl” premium poke bowls. But their next viral hit might live outside the bowl and wrapped inside a burrito with their new gluten-free poke burritos.\n",
      "\n",
      "Their Signature Spicy Tuna Burrito includes Yellowfin tuna, bamboo rice, avocado, cucumber, cilantro, crispy onions, seaweed salad, and spicy mayo wrapped in a gluten-free tortilla and is served with a side of crunchy garlic chili oil.\n",
      "\n",
      "Who's trying one 🙋‍♀️🙋🐟🌯\n",
      "\n",
      "#poke #pokebowl #tuna #hawaiian #california #californialove #burritos #burritos🌯 #burrito #burritolovers\n",
      "The World’s 50 Best Restaurants awards list just dropped and @centralrest in Lima, Peru earned the coveted top-spot 🥇. Four other Lima restaurants also earned recognition. Is Lima the next food hot spot? Want to know who else made the list? 👇\n",
      "\n",
      "1. Central (Lima, Peru) – Best Restaurant in South America\n",
      "2. Disfrutar (Barcelona, Spain) – Best Restaurant in Europe\n",
      "3. Diverxo (Madrid, Spain)\n",
      "4. Asador Etxebarri (Atxondo, Spain)\n",
      "5. Alchemist (Copenhagen, Denmark)\n",
      "6. Maido (Lima, Peru)\n",
      "7. Lido 84 (Gardone Riviera, Italy)\n",
      "8. Atomix (New York City) – Highest Climber, Best Restaurant in North America\n",
      "9. Quintonil (Mexico City, Mexico)\n",
      "10. New: Table by Bruno Verjus (Paris, France) – Highest New Entry\n",
      "11. New: Trèsind Studio (Dubai, UAE) – Best Restaurant in the Middle East and Africa\n",
      "12. A Casa do Porco (São Paulo, Brazil)\n",
      "13. Pujol (Mexico City, Mexico)\n",
      "14. Odette (Singapore) – Best Restaurant in Asia and Chef’s Choice: Julien Royer\n",
      "15. New: Le Du (Bangkok, Thailand)\n",
      "16. Reale (Castel di Sangro, Italy)\n",
      "17. New: Gaggan Anand (Bangkok, Thailand)\n",
      "18. Steirereck (Vienna, Austria)\n",
      "19. Don Julio (Buenos Aires, Argentina)\n",
      "20. Quique Dacosta (Dénia, Spain)\n",
      "21. Den (Tokyo, Japan)\n",
      "22. Elkano (Getaria, Spain)\n",
      "23. New: Kol (London, England)\n",
      "24. Septime (Paris, France)\n",
      "25. Belcanto (Lisbon, Portugal)\n",
      "26. Schloss Schauenstein (Fürstenau, Switzerland)\n",
      "27. Florilège (Tokyo, Japan)\n",
      "28. New: Kjolle (Lima, Peru)\n",
      "29. Boragó (Santiago, Chile)\n",
      "30. Frantzén (Stockholm, Sweden)\n",
      "31. Mugaritz (San Sebastian, Spain)\n",
      "32. Hiša Franko (Kobarid, Slovenia)\n",
      "33. New: El Chato (Bogotá, Colombia)\n",
      "34. Uliassi (Senigallia, Italy)\n",
      "35. Ikoyi (London, England)\n",
      "36. New: Plénitude (Paris, France)\n",
      "37. New: Sézanne (Tokyo, Japan)\n",
      "38. The Clove Club (London, England)\n",
      "39. The Jane (Antwerp, Belgium)\n",
      "40. Restaurant Tim Raue (Berlin, Germany)\n",
      "41. Le Calandre (Rubano, Italy)\n",
      "42. Piazza Duomo (Alba, Italy)\n",
      "43. Leo (Bogotá, Colombia)\n",
      "44. Le Bernardin (New York City)\n",
      "45. Nobelhart & Schmutzig (Berlin, Germany)\n",
      "46. New: Orfali Bros (Dubai, United Arab Emirates)\n",
      "47. Mayta (Lima, Peru)\n",
      "48. New: La Grenouillère (La Madelaine-sous-Montreuil, France)\n",
      "49. New: Rosetta (Mexico City)\n",
      "50. The Chairman (Hong Kong)\n",
      "Salt Bae Burger, founded by the eponymous Turkish butcher who became a viral sensation in 2017 thanks to his flamboyant style of sprinkling salt on raw meat while wearing sunglasses and a fitted white shirt, has closed. Salt Bae Burger opened in 2020 and was met with polarizing reviews, its signature Salt Bae Burger, featuring “Wagyu meat” and “oozy toppings” earned it “the worst restaurant in NYC” according to Gothamist.\n",
      "\n",
      "Sprinkle some salt out for Salt Bae 🤌🧂\n",
      "@theviplistnyc review of @ixtanyc is totally 🔥 ”Who knew a Mexican Cesar Salad could f**k this hard!? 🥗🤣”… but seriously you better not sleep on that truffle queso 🤤🧀\n",
      "\n",
      "#mexicanfood #mexicana #ixtanyc #foodscene #restaurants #restaurantreview #tiktok #viral #viralvideos #viralfood\n",
      "Ever wish you could get a taste of the dishes from Chef’s Table? Well now you can. @netflix is cooking up something special with their first-ever culinary pop-up ‘Netflix Bites.’\n",
      "\n",
      "Opening on June 30 in Los Angeles, ‘Netflix Bites’ will spotlight acclaimed chefs from popular Netflix series such as chef Curtis Stone (Iron Chef: Quest for an Iron Legend), who will collaborate with other beloved Netflix chefs including Dominique Crenn (Chef’s Table, Iron Chef: Quest for an Iron Legend), Rodney Scott (Chef’s Table: BBQ), Ming Tsai (Iron Chef: Quest for an Iron Legend), Ann Kim (Chef's Table: Pizza), Nadiya Hussain (Nadiya Bakes), Jacques Torres (Nailed It!) and Andrew Zimmern (Iron Chef: Quest for an Iron Legend). These culinary legends will team up to create a special tasting menu that features flavorful bites showing off their unique specialties and giving fans and foodies alike a one-of-a-kind restaurant experience.\n",
      "\n",
      "NETFLIX BITES at Short Stories Hotel will open on June 30 for a limited-time run in Los Angeles at 115 S. Fairfax Ave, Los Angeles, CA 90036. The restaurant will be open from 5-10 pm seven days a week. On Saturdays & Sundays, it will offer a brunch menu from 10 am-2 pm.\n",
      "\n",
      "Book your reservation at www.NETFLIXBITES.com\n",
      "@nychistoryhub shares some fascinating food facts about the historic @waldorfastoria in New York City.\n",
      "\n",
      "Who knew? 🎂🍳🥗\n",
      "\n",
      "#newyorkcity #nyc #history #nychistory #waldorfastoria #redvelvet #eggsbenedict #salad\n",
      "After being featured in an article on @bonappetitmag entitled “The Untold Tale of the Artichoke Parm, the Most Mysterious Sandwich in Brooklyn,” Mama Louisa's hero shop Brooklyn has seen their unconventional parm sandwich creation go viral.\n",
      "\n",
      "The sandwich provides a new twist on a classic parm sandwich with artichoke hearts, scrambled eggs (yes that's right), marinara sauce and of course, mozzarella cheese. As the bon appétit author Katie Honan put it “the sandwich was unlike anything I’d ever tasted. It was creamy from melty mozz and a little tangy from jarred artichoke hearts and marinara sauce, hefty without spilling out of the sides. The bread was strong on the outside yet pillowy inside.”\n",
      "\n",
      "Who’s curious to try it?\n",
      "\n",
      "photographs By Scott Semler, bon appétit.\n",
      "\n",
      "#brooklyn #newyork #newyorker #newyorkcity #sandwich #sandwiches #parma #parmesan #artichoke #bonappétit #bonappetitmag #viralfood #viralfoods\n",
      "Located in the heart of Astoria Queens, @nisiastoria brings a modern twist on old classics. Recently cited as one of the “Hottest New Restaurants in Queens” from @eater_ny , Nisí Estiatorio Provides a fresh new take on authentic home-style Greek recipes handed down from past generations.\n",
      "\n",
      "The bright, crisp, clean, white interior evokes a Greek island vibe, complete with pink flowers, and star-shaped shadows cast by the ceiling sconces. Some of the menu highlights include Lobster Pasta, Pan Seared Red Snapper, Charcoal Grilled Octopus, Lamb Chops & Pastitsada Korfiatiki. The drinks are equally carefully crafted as the food. Nisí Estiatorio is making quite the name for itself in an already highly-celebrated Queens Greek restaurant scene.\n",
      "\n",
      "#greek #greekfood #greekislands #greekcuisine #queens #astoria\n"
     ]
    }
   ],
   "source": [
    "for data in scraped_data :\n",
    "    print(data)"
   ]
  },
  {
   "cell_type": "markdown",
   "id": "64ec1db7",
   "metadata": {},
   "source": [
    "#### 2.2: Prepare a list of all words used in all the scraped posts and calculate the frequency of each word."
   ]
  },
  {
   "cell_type": "code",
   "execution_count": 33,
   "id": "cadfc6af",
   "metadata": {},
   "outputs": [],
   "source": [
    "def get_hashtag_frequency(scraped_data) :\n",
    "    \n",
    "    word_list = get_word_list(scraped_data)\n",
    "    \n",
    "    hashtags_frequency = get_frequency_from_words(word_list)\n",
    "    hashtags_frequency = sort_dict(hashtags_frequency)\n",
    "    hashtags_frequency = dict(reversed(list(hashtags_frequency.items())))\n",
    "    \n",
    "    return hashtags_frequency"
   ]
  },
  {
   "cell_type": "code",
   "execution_count": 34,
   "id": "b9cf5317",
   "metadata": {},
   "outputs": [],
   "source": [
    "def get_word_list(scraped_data) :\n",
    "    word_list = list()\n",
    "    \n",
    "    for data in scraped_data :\n",
    "        data = data.split(' ')\n",
    "        for word in data :\n",
    "            if len(word) > 0 and word[0] == '#' :\n",
    "                word_list.append(word)\n",
    "    \n",
    "    return word_list"
   ]
  },
  {
   "cell_type": "code",
   "execution_count": 35,
   "id": "41397223",
   "metadata": {},
   "outputs": [],
   "source": [
    "def get_frequency_from_words(word_list) :\n",
    "    hashtags_frequency = dict()\n",
    "    for word in word_list :\n",
    "        val = hashtags_frequency.get(word)\n",
    "        if not val :\n",
    "            hashtags_frequency[word] = 1\n",
    "        else :\n",
    "            hashtags_frequency[word] += 1\n",
    "    return hashtags_frequency"
   ]
  },
  {
   "cell_type": "markdown",
   "id": "9fbe2dc2",
   "metadata": {},
   "source": [
    "#### Calling Function"
   ]
  },
  {
   "cell_type": "code",
   "execution_count": 36,
   "id": "d93250ec",
   "metadata": {},
   "outputs": [],
   "source": [
    "hashtags_frequency = get_hashtag_frequency(scraped_data)"
   ]
  },
  {
   "cell_type": "markdown",
   "id": "348dbacc",
   "metadata": {},
   "source": [
    "#### 2.2: Output"
   ]
  },
  {
   "cell_type": "code",
   "execution_count": 37,
   "id": "b8d8227c",
   "metadata": {},
   "outputs": [
    {
     "data": {
      "text/plain": [
       "{'#food': 15,\n",
       " '#foodtalkindia': 10,\n",
       " '#discover': 10,\n",
       " '#yummy': 10,\n",
       " '#delicious': 10,\n",
       " '#bombaybuzzz': 8,\n",
       " '#dilsecouple': 7,\n",
       " '#reelsinstagram': 7,\n",
       " '#delhi': 7,\n",
       " '#bbuzzz': 6,\n",
       " '#streetfood': 6,\n",
       " '#mumbai': 5,\n",
       " '#healthychoices': 4,\n",
       " '#drinks': 4,\n",
       " '#india': 4,\n",
       " '#aglassofworldclass': 3,\n",
       " '#glutenfreevegan': 3,\n",
       " '#NewInTown': 3,\n",
       " '#vegetarianmeals': 3,\n",
       " '#wccf': 3,\n",
       " '#flavours': 3,\n",
       " '#foodie': 3,\n",
       " '#veganrecipes': 2,\n",
       " '#travel': 2,\n",
       " '#Eid': 2,\n",
       " '#FoodTrail': 2,\n",
       " '#CulinaryHeritage': 2,\n",
       " '#TasteOfHistory': 2,\n",
       " '#healthyrecipes': 2,\n",
       " '#snackideas': 2,\n",
       " '#mumbaidiaries': 2,\n",
       " '#restaurants': 2,\n",
       " '#sandwich': 2,\n",
       " '#bombay': 2,\n",
       " '#eatyourveggies': 2,\n",
       " '#veganbreakfast': 2,\n",
       " '#nonvegfood': 2,\n",
       " '#snackrecipes': 2,\n",
       " '#BbuzzzFinds': 2,\n",
       " '#cocktails': 2,\n",
       " '#bbuzzzfinds': 2,\n",
       " '#indianrecipes': 2,\n",
       " '#viralfood': 2,\n",
       " '#trailmix': 1,\n",
       " '#saladideas': 1,\n",
       " '#msgfreefood': 1,\n",
       " '#onepotmeal': 1,\n",
       " '#dinnerideas': 1,\n",
       " '#healthysalad': 1,\n",
       " '#pulaorecipe': 1,\n",
       " '#vegetariansalad': 1,\n",
       " '#milletrecipes': 1,\n",
       " '#indiansnacks': 1,\n",
       " '#healthyfood': 1,\n",
       " '#namkeen': 1,\n",
       " '#cornsalad': 1,\n",
       " '#naan': 1,\n",
       " '#eatyourcolors': 1,\n",
       " '#saladsofinstagram': 1,\n",
       " '#bangkok': 1,\n",
       " '#veganfood': 1,\n",
       " '#noodlelover': 1,\n",
       " '#travelfood': 1,\n",
       " '#jarnoodles': 1,\n",
       " '#poha': 1,\n",
       " '#mealprepideas': 1,\n",
       " '#cuppanoodles': 1,\n",
       " '#instantnoodles': 1,\n",
       " '#vegetarianrecipes': 1,\n",
       " '#pakode': 1,\n",
       " '#potatorecipes': 1,\n",
       " '#glutenfreerecipes': 1,\n",
       " '#vegetariansnacks': 1,\n",
       " '#rain': 1,\n",
       " '#crispypotatoes': 1,\n",
       " '#chilioil': 1,\n",
       " '#airfryerrecipe': 1,\n",
       " '#goilabutterchicken': 1,\n",
       " '#koreanfood': 1,\n",
       " '#healthybreakfast': 1,\n",
       " '#breakfastideas': 1,\n",
       " '#avocadolover': 1,\n",
       " '#sugarfreediet': 1,\n",
       " '#breakfastrecipes': 1,\n",
       " '#bananapancakes': 1,\n",
       " '#keemanaan': 1,\n",
       " '#oatsforbreakfast': 1,\n",
       " '#pancakerecipe': 1,\n",
       " '#currylover': 1,\n",
       " '#avocadorecipes': 1,\n",
       " '#indianfood': 1,\n",
       " '#hinagujral': 1,\n",
       " '#indianfoodlovers': 1,\n",
       " '#cookbook': 1,\n",
       " '#alootikki': 1,\n",
       " '#cholebhature': 1,\n",
       " '#Samosa': 1,\n",
       " '#jalandhar': 1,\n",
       " '#veganfoodshare': 1,\n",
       " '#amritsar': 1,\n",
       " '#dippingsauce': 1,\n",
       " '#ohbhaisaab': 1,\n",
       " '#vegetarianfood': 1,\n",
       " '#chillioilnoodles': 1,\n",
       " '#barish': 1,\n",
       " '#achar': 1,\n",
       " '#chefsaranshgoila': 1,\n",
       " '#sadakchef': 1,\n",
       " '#saranshgoila': 1,\n",
       " '#butterchicken': 1,\n",
       " '#omelette': 1,\n",
       " '#lowcaloriemeals': 1,\n",
       " '#oatspiration': 1,\n",
       " '#bangkokthailand': 1,\n",
       " '#lowcaloriediet': 1,\n",
       " '#healthysoup': 1,\n",
       " '#healthyeating': 1,\n",
       " '#oatsrecipe': 1,\n",
       " '#glutenfreevegan\\n#reelsinstagram': 1,\n",
       " '#king': 1,\n",
       " '#huskycafebangkok': 1,\n",
       " '#astoria': 1,\n",
       " '#bangkoklife': 1,\n",
       " '#hawaiian': 1,\n",
       " '#foodscene': 1,\n",
       " '#ixtanyc': 1,\n",
       " '#mexicana': 1,\n",
       " '#burritolovers': 1,\n",
       " '#burrito': 1,\n",
       " '#burritos🌯': 1,\n",
       " '#burritos': 1,\n",
       " '#californialove': 1,\n",
       " '#california': 1,\n",
       " '#tuna': 1,\n",
       " '#tiktok': 1,\n",
       " '#pokebowl': 1,\n",
       " '#creativity': 1,\n",
       " '#fooddelivery': 1,\n",
       " '#artificialintelligence': 1,\n",
       " '#AGlassOfWorldClass': 1,\n",
       " '#goingout': 1,\n",
       " '#morning': 1,\n",
       " '#pretindia': 1,\n",
       " '#pizza': 1,\n",
       " '#restaurantreview': 1,\n",
       " '#viral': 1,\n",
       " '#petlover': 1,\n",
       " '#sandwiches': 1,\n",
       " '#greekcuisine': 1,\n",
       " '#greekislands': 1,\n",
       " '#greekfood': 1,\n",
       " '#viralfoods': 1,\n",
       " '#bonappetitmag': 1,\n",
       " '#bonappétit': 1,\n",
       " '#artichoke': 1,\n",
       " '#parmesan': 1,\n",
       " '#parma': 1,\n",
       " '#newyorkcity': 1,\n",
       " '#viralvideos': 1,\n",
       " '#newyorker': 1,\n",
       " '#newyork': 1,\n",
       " '#salad': 1,\n",
       " '#eggsbenedict': 1,\n",
       " '#redvelvet': 1,\n",
       " '#waldorfastoria': 1,\n",
       " '#nychistory': 1,\n",
       " '#history': 1,\n",
       " '#nyc': 1,\n",
       " '#nomadpizza': 1,\n",
       " '#burgers': 1,\n",
       " '#AGlassOfWorldClass\\n#cocktails': 1,\n",
       " '#hanoi': 1,\n",
       " '#mumbairain': 1,\n",
       " '#mumbaimonsoon': 1,\n",
       " '#monsoon': 1,\n",
       " '#mumbairains': 1,\n",
       " '#turkey': 1,\n",
       " '#helicopterride': 1,\n",
       " '#mumbaifood': 1,\n",
       " '#things2doinmumbai': 1,\n",
       " '#hoian': 1,\n",
       " '#hochiminh': 1,\n",
       " '#WorldClass2023': 1,\n",
       " '#queens': 1,\n",
       " '#vietnamtrip': 1,\n",
       " '#vietnamtravel': 1,\n",
       " '#vietjet': 1,\n",
       " '#bangkokcafe': 1,\n",
       " '#bangkokcafes': 1,\n",
       " '#bangkok🇹🇭': 1,\n",
       " '#bangkoktrip': 1,\n",
       " '#petlovers': 1,\n",
       " '#rains': 1,\n",
       " '#narimanpoint': 1,\n",
       " '#gatewayofindia': 1,\n",
       " '#hostels': 1,\n",
       " '#WorldClassIN': 1,\n",
       " '#WorldClass': 1,\n",
       " '#MakeItWorldClass': 1,\n",
       " '#alldaydining': 1,\n",
       " '#rainyday': 1,\n",
       " '#travelfriendly': 1,\n",
       " '#travelessential': 1,\n",
       " '#ayurvedalifestyle': 1,\n",
       " '#ayurvedic': 1,\n",
       " '#ayurveda': 1,\n",
       " '#KhoyaKhoya': 1,\n",
       " '#villasinmumbai': 1,\n",
       " '#maharastra': 1,\n",
       " '#villa': 1,\n",
       " '#palghar': 1,\n",
       " '#hivehostels': 1,\n",
       " '#vileparle': 1,\n",
       " '#mithibai': 1,\n",
       " '#nmims': 1,\n",
       " '#vietnamlife': 1}"
      ]
     },
     "execution_count": 37,
     "metadata": {},
     "output_type": "execute_result"
    }
   ],
   "source": [
    "hashtags_frequency"
   ]
  },
  {
   "cell_type": "markdown",
   "id": "a1aef7d4",
   "metadata": {},
   "source": [
    "#### 2.3: Create a csv file with two columns : the word and its frequency"
   ]
  },
  {
   "cell_type": "code",
   "execution_count": 38,
   "id": "bbd05b7a",
   "metadata": {},
   "outputs": [],
   "source": [
    "dataframe = pd.DataFrame()"
   ]
  },
  {
   "cell_type": "code",
   "execution_count": 39,
   "id": "199ca783",
   "metadata": {},
   "outputs": [],
   "source": [
    "hashtags = list(hashtags_frequency.keys())\n",
    "frequency = list(hashtags_frequency.values())"
   ]
  },
  {
   "cell_type": "code",
   "execution_count": 40,
   "id": "544901d2",
   "metadata": {},
   "outputs": [],
   "source": [
    "dataframe['Hashtags'] = hashtags\n",
    "dataframe['Frequency'] = frequency"
   ]
  },
  {
   "cell_type": "code",
   "execution_count": 41,
   "id": "fd5e29e5",
   "metadata": {},
   "outputs": [
    {
     "data": {
      "text/html": [
       "<div>\n",
       "<style scoped>\n",
       "    .dataframe tbody tr th:only-of-type {\n",
       "        vertical-align: middle;\n",
       "    }\n",
       "\n",
       "    .dataframe tbody tr th {\n",
       "        vertical-align: top;\n",
       "    }\n",
       "\n",
       "    .dataframe thead th {\n",
       "        text-align: right;\n",
       "    }\n",
       "</style>\n",
       "<table border=\"1\" class=\"dataframe\">\n",
       "  <thead>\n",
       "    <tr style=\"text-align: right;\">\n",
       "      <th></th>\n",
       "      <th>Hashtags</th>\n",
       "      <th>Frequency</th>\n",
       "    </tr>\n",
       "  </thead>\n",
       "  <tbody>\n",
       "    <tr>\n",
       "      <th>0</th>\n",
       "      <td>#food</td>\n",
       "      <td>15</td>\n",
       "    </tr>\n",
       "    <tr>\n",
       "      <th>1</th>\n",
       "      <td>#foodtalkindia</td>\n",
       "      <td>10</td>\n",
       "    </tr>\n",
       "    <tr>\n",
       "      <th>2</th>\n",
       "      <td>#discover</td>\n",
       "      <td>10</td>\n",
       "    </tr>\n",
       "    <tr>\n",
       "      <th>3</th>\n",
       "      <td>#yummy</td>\n",
       "      <td>10</td>\n",
       "    </tr>\n",
       "    <tr>\n",
       "      <th>4</th>\n",
       "      <td>#delicious</td>\n",
       "      <td>10</td>\n",
       "    </tr>\n",
       "    <tr>\n",
       "      <th>...</th>\n",
       "      <td>...</td>\n",
       "      <td>...</td>\n",
       "    </tr>\n",
       "    <tr>\n",
       "      <th>211</th>\n",
       "      <td>#hivehostels</td>\n",
       "      <td>1</td>\n",
       "    </tr>\n",
       "    <tr>\n",
       "      <th>212</th>\n",
       "      <td>#vileparle</td>\n",
       "      <td>1</td>\n",
       "    </tr>\n",
       "    <tr>\n",
       "      <th>213</th>\n",
       "      <td>#mithibai</td>\n",
       "      <td>1</td>\n",
       "    </tr>\n",
       "    <tr>\n",
       "      <th>214</th>\n",
       "      <td>#nmims</td>\n",
       "      <td>1</td>\n",
       "    </tr>\n",
       "    <tr>\n",
       "      <th>215</th>\n",
       "      <td>#vietnamlife</td>\n",
       "      <td>1</td>\n",
       "    </tr>\n",
       "  </tbody>\n",
       "</table>\n",
       "<p>216 rows × 2 columns</p>\n",
       "</div>"
      ],
      "text/plain": [
       "           Hashtags  Frequency\n",
       "0             #food         15\n",
       "1    #foodtalkindia         10\n",
       "2         #discover         10\n",
       "3            #yummy         10\n",
       "4        #delicious         10\n",
       "..              ...        ...\n",
       "211    #hivehostels          1\n",
       "212      #vileparle          1\n",
       "213       #mithibai          1\n",
       "214          #nmims          1\n",
       "215    #vietnamlife          1\n",
       "\n",
       "[216 rows x 2 columns]"
      ]
     },
     "execution_count": 41,
     "metadata": {},
     "output_type": "execute_result"
    }
   ],
   "source": [
    "dataframe"
   ]
  },
  {
   "cell_type": "markdown",
   "id": "8a074c56",
   "metadata": {},
   "source": [
    "#### 2.3: Output"
   ]
  },
  {
   "cell_type": "code",
   "execution_count": 42,
   "id": "f9f39f81",
   "metadata": {},
   "outputs": [],
   "source": [
    "dataframe.to_csv('Problem-2_part_3-Hashtags_VS_Frequency_InstaBot-Project.csv', index = False)"
   ]
  },
  {
   "cell_type": "code",
   "execution_count": 43,
   "id": "624e167d",
   "metadata": {},
   "outputs": [
    {
     "name": "stdout",
     "output_type": "stream",
     "text": [
      "CSV file created !!!\n"
     ]
    }
   ],
   "source": [
    "print('CSV file created !!!')"
   ]
  },
  {
   "cell_type": "markdown",
   "id": "3dc5352a",
   "metadata": {},
   "source": [
    "#### 2.4: Now, find the hashtags that were most popular among these bloggers"
   ]
  },
  {
   "cell_type": "code",
   "execution_count": 44,
   "id": "3eb933f7",
   "metadata": {},
   "outputs": [],
   "source": [
    "top_5_hashtags = dict()\n",
    "count = 0\n",
    "for i in list(hashtags_frequency.items()) :\n",
    "    if count == 5 :\n",
    "        break\n",
    "    top_5_hashtags[i[0]] = i[1]\n",
    "    count += 1"
   ]
  },
  {
   "cell_type": "markdown",
   "id": "4149a4a7",
   "metadata": {},
   "source": [
    "#### 2.4 Output"
   ]
  },
  {
   "cell_type": "code",
   "execution_count": 45,
   "id": "b4785fee",
   "metadata": {},
   "outputs": [
    {
     "name": "stdout",
     "output_type": "stream",
     "text": [
      "#food 15\n",
      "#foodtalkindia 10\n",
      "#discover 10\n",
      "#yummy 10\n",
      "#delicious 10\n"
     ]
    }
   ],
   "source": [
    "for key in top_5_hashtags :\n",
    "    print(key, top_5_hashtags[key])"
   ]
  },
  {
   "cell_type": "markdown",
   "id": "efc78969",
   "metadata": {},
   "source": [
    "#### 2.5: Plot a Pie Chart of the top 5 hashtags obtained and the number of times they were used by these bloggers in the scraped posts."
   ]
  },
  {
   "cell_type": "code",
   "execution_count": 46,
   "id": "2ee95145",
   "metadata": {},
   "outputs": [],
   "source": [
    "hashtag_list = list(top_5_hashtags.keys())\n",
    "frequency_list = list(top_5_hashtags.values())"
   ]
  },
  {
   "cell_type": "code",
   "execution_count": 47,
   "id": "2eec1c8b",
   "metadata": {},
   "outputs": [],
   "source": [
    "def func(pct, allvalues):\n",
    "    absolute = int(pct / 100.*np.sum(allvalues))\n",
    "    return \"{:d}\".format(absolute)"
   ]
  },
  {
   "cell_type": "markdown",
   "id": "be8f45fb",
   "metadata": {},
   "source": [
    "#### 2.5: Output\n",
    "**Note**: The value inside the pie chart is frequency of words itself and not percentage"
   ]
  },
  {
   "cell_type": "code",
   "execution_count": 48,
   "id": "20ebfc0c",
   "metadata": {},
   "outputs": [
    {
     "data": {
      "image/png": "[encoded data removed]",
      "text/plain": [
       "<Figure size 640x480 with 1 Axes>"
      ]
     },
     "metadata": {},
     "output_type": "display_data"
    }
   ],
   "source": [
    "### The value inside the pie chart is frequency of words itself and not percentage\n",
    "plt.pie(frequency_list, labels = hashtag_list, autopct = lambda pct: func(pct, frequency_list))\n",
    "plt.show()"
   ]
  },
  {
   "cell_type": "markdown",
   "id": "c1d5b80d",
   "metadata": {},
   "source": [
    "### Problem 3: You need to also calculate average followers : likes ratio for the obtained handles. Followers : Likes ratio is calculated as follows:\n",
    "\n",
    "1. Find out the likes of the top 10 posts of the 5 handles obtained earlier.\n",
    "2. Calculate the average likes for a handle.\n",
    "3. Divide the average likes obtained from the number of followers of the handle to get the average followers:like ratio of each handle.    \n",
    "4. Create a bar graph to depict the above obtained information."
   ]
  },
  {
   "cell_type": "markdown",
   "id": "c20c99a7",
   "metadata": {},
   "source": [
    "#### 3.1: Plot a Pie Chart of the top 5 hashtags obtained and the number of times they were used by these bloggers in the scraped posts."
   ]
  },
  {
   "cell_type": "code",
   "execution_count": 49,
   "id": "f0ea87f7",
   "metadata": {},
   "outputs": [],
   "source": [
    "def get_post_vs_likes(top_5_handles) :\n",
    "    output = list()\n",
    "    for profile in top_5_handles :\n",
    "        driver.get(profile)\n",
    "        posts = get_posts_link()\n",
    "        post_vs_likes = dict()\n",
    "        post_vs_likes['names'] = get_account_name(profile)\n",
    "        for i in range(len(posts)) :\n",
    "            post = posts[i]\n",
    "            likes = get_likes_from_post(post)\n",
    "            post_vs_likes[i + 1] = likes\n",
    "        output.append(post_vs_likes)\n",
    "    return output"
   ]
  },
  {
   "cell_type": "code",
   "execution_count": 50,
   "id": "23e51fd5",
   "metadata": {},
   "outputs": [],
   "source": [
    "def get_likes_from_post(post) :\n",
    "    post.click()\n",
    "    wait = WebDriverWait(driver, 2)\n",
    "    cross_element = wait.until(EC.presence_of_element_located((By.XPATH, \"//div[starts-with(@class, 'x160vmok x10l6tqk x1eu8d0j x1vjfegm')]/div[starts-with(@class, 'x1i10hfl x6umtig x1b1mbwd xaqea5y xav7gou x9f619 xe8uvvx xdj266r x11i5rnm xat24cr x1mh8g0r x16tdsg8 x1hl2dhg xggy1nq x1a2a7pz x6s0dn4 xjbqb8w x1ejq31n xd10rxx x1sy0etr x17r0tee x1ypdohk x78zum5 xl56j7k x1y1aw1k x1sxyh0 xwib8y2 xurb0ha')]\"))) \n",
    "    \n",
    "    try :\n",
    "        \n",
    "        likes = wait.until(EC.presence_of_element_located((By.XPATH, \"//a/span[starts-with(@class, 'x193iq5w xeuugli x1fj9vlw x13faqbe x1vvkbs xt0psk2 x1i0vuye xvs91rp x1s688f x5n08af x10wh9bi x1wdrske x8viiok x18hxmgj')]/span\")))\n",
    "        likes = likes.text\n",
    "        likes = int(likes.replace(',',''))\n",
    "        cross_element.click()\n",
    "        return likes\n",
    "    \n",
    "    except :\n",
    "        \n",
    "        cross_element.click()\n",
    "        return 'No data available'\n",
    "    "
   ]
  },
  {
   "cell_type": "markdown",
   "id": "96533a68",
   "metadata": {},
   "source": [
    "#### Calling Function"
   ]
  },
  {
   "cell_type": "code",
   "execution_count": 51,
   "id": "5925d3aa",
   "metadata": {},
   "outputs": [],
   "source": [
    "post_vs_likes = get_post_vs_likes(top_5_handles)"
   ]
  },
  {
   "cell_type": "markdown",
   "id": "edfcf9ec",
   "metadata": {},
   "source": [
    "#### 3.1: Output\n",
    "**Note**: Here 'No data available' means that the profile has restricted the view of Likes for users"
   ]
  },
  {
   "cell_type": "code",
   "execution_count": 52,
   "id": "7eaeb696",
   "metadata": {},
   "outputs": [
    {
     "name": "stdout",
     "output_type": "stream",
     "text": [
      "dilsefoodie\n",
      "\n",
      "Post_number : Like_count\n",
      "\n",
      "1 : No data available\n",
      "2 : 5905\n",
      "3 : 4379\n",
      "4 : 7611\n",
      "5 : 4871\n",
      "6 : 11304\n",
      "7 : 7593\n",
      "8 : 16461\n",
      "9 : 2955\n",
      "10 : 5716\n",
      "\n",
      "funfoodandfrolic\n",
      "\n",
      "Post_number : Like_count\n",
      "\n",
      "1 : 1028\n",
      "2 : 1330\n",
      "3 : 4362\n",
      "4 : 4133\n",
      "5 : 2040\n",
      "6 : 4437\n",
      "7 : 15861\n",
      "8 : 4855\n",
      "9 : 1404\n",
      "10 : 6075\n",
      "\n",
      "bbuzzz08\n",
      "\n",
      "Post_number : Like_count\n",
      "\n",
      "1 : 355714\n",
      "2 : 16185\n",
      "3 : 92318\n",
      "4 : No data available\n",
      "5 : 230931\n",
      "6 : 2022\n",
      "7 : 2597\n",
      "8 : 4360\n",
      "9 : 86299\n",
      "10 : 1387\n",
      "\n",
      "foodtalkindia\n",
      "\n",
      "Post_number : Like_count\n",
      "\n",
      "1 : 114\n",
      "2 : 173\n",
      "3 : 172\n",
      "4 : 458\n",
      "5 : 218\n",
      "6 : 338\n",
      "7 : 391\n",
      "8 : 1147\n",
      "9 : 418\n",
      "10 : 251\n",
      "\n",
      "food\n",
      "\n",
      "Post_number : Like_count\n",
      "\n",
      "1 : No data available\n",
      "2 : No data available\n",
      "3 : No data available\n",
      "4 : No data available\n",
      "5 : No data available\n",
      "6 : No data available\n",
      "7 : No data available\n",
      "8 : 91\n",
      "9 : No data available\n",
      "10 : No data available\n",
      "\n"
     ]
    }
   ],
   "source": [
    "for myDict in post_vs_likes :\n",
    "    print(myDict['names'])\n",
    "    print()\n",
    "    print('Post_number : Like_count')\n",
    "    print()\n",
    "    for key in myDict :\n",
    "        if key == 'names' :\n",
    "            continue\n",
    "        print(key, ':' , myDict[key])\n",
    "    print()"
   ]
  },
  {
   "cell_type": "markdown",
   "id": "1972f32e",
   "metadata": {},
   "source": [
    "#### 3.2: Calculate the average likes for a handle.\n",
    "**Note**: Ignoring Nan Values and only takin average for only those whose values are present."
   ]
  },
  {
   "cell_type": "code",
   "execution_count": 53,
   "id": "95d67b4c",
   "metadata": {},
   "outputs": [],
   "source": [
    "for i in range(len(post_vs_likes)) :\n",
    "    myDict = post_vs_likes[i]\n",
    "    count = 0\n",
    "    for key in myDict :\n",
    "        if key == 'names' or myDict[key] == 'No data available':\n",
    "            continue\n",
    "        count += 1\n",
    "    total = 0\n",
    "    for key in myDict :\n",
    "        if key == 'names' or myDict[key] == 'No data available':\n",
    "            continue\n",
    "        total += myDict[key]\n",
    "    \n",
    "    post_vs_likes[i] = dict()\n",
    "    post_vs_likes[i]['names'] = myDict['names']\n",
    "    if count == 0 :\n",
    "        avg = 0\n",
    "    else :\n",
    "        avg = total / count\n",
    "    post_vs_likes[i]['avg'] = avg"
   ]
  },
  {
   "cell_type": "code",
   "execution_count": 54,
   "id": "36e3aa80",
   "metadata": {},
   "outputs": [],
   "source": [
    "post_vs_avg = post_vs_likes.copy()"
   ]
  },
  {
   "cell_type": "markdown",
   "id": "fda5411e",
   "metadata": {},
   "source": [
    "#### 3.2: Output"
   ]
  },
  {
   "cell_type": "code",
   "execution_count": 55,
   "id": "827199e6",
   "metadata": {},
   "outputs": [
    {
     "name": "stdout",
     "output_type": "stream",
     "text": [
      "dilsefoodie\n",
      "avg : 7421.666666666667\n",
      "\n",
      "funfoodandfrolic\n",
      "avg : 4552.5\n",
      "\n",
      "bbuzzz08\n",
      "avg : 87979.22222222222\n",
      "\n",
      "foodtalkindia\n",
      "avg : 368.0\n",
      "\n",
      "food\n",
      "avg : 91.0\n",
      "\n"
     ]
    }
   ],
   "source": [
    "for myDict in post_vs_avg :\n",
    "    print(myDict['names'])\n",
    "    for key in myDict :\n",
    "        if key == 'names' :\n",
    "            continue\n",
    "        print(key, ':' , myDict[key])\n",
    "    print()"
   ]
  },
  {
   "cell_type": "markdown",
   "id": "7c238b30",
   "metadata": {},
   "source": [
    "#### 3.3: Divide the average likes obtained from the number of followers of the handle to get the average followers:like ratio of each handle"
   ]
  },
  {
   "cell_type": "code",
   "execution_count": 56,
   "id": "54526022",
   "metadata": {},
   "outputs": [],
   "source": [
    "followers_count = list(top_5_handles_vs_followers.values())\n",
    "average_count = []\n",
    "for myDict in post_vs_avg :\n",
    "    average_count.append(myDict['avg'])"
   ]
  },
  {
   "cell_type": "code",
   "execution_count": 57,
   "id": "90fc6a21",
   "metadata": {},
   "outputs": [],
   "source": [
    "ratio = []\n",
    "for i in range(5) :\n",
    "    f_count = followers_count[i]\n",
    "    avg_count = average_count[i]\n",
    "    \n",
    "    if avg_count == 0 :\n",
    "        ratio.append(0)\n",
    "    else :\n",
    "        ratio.append(f_count/avg_count)"
   ]
  },
  {
   "cell_type": "markdown",
   "id": "bb9429ab",
   "metadata": {},
   "source": [
    "#### 3.3: Output"
   ]
  },
  {
   "cell_type": "code",
   "execution_count": 58,
   "id": "85ca5fad",
   "metadata": {},
   "outputs": [
    {
     "name": "stdout",
     "output_type": "stream",
     "text": [
      "2000.0\n",
      "839.6739130434783\n",
      "148.2146867280485\n",
      "106.09555189456343\n",
      "3.9554793871785385\n"
     ]
    }
   ],
   "source": [
    "ratio = sorted(ratio)\n",
    "ratio = ratio[::-1]\n",
    "for r in ratio :\n",
    "    print(r)"
   ]
  },
  {
   "cell_type": "markdown",
   "id": "8363c326",
   "metadata": {},
   "source": [
    "#### 3.4: Divide the average likes obtained from the number of followers of the handle to get the average followers:like ratio of each handle"
   ]
  },
  {
   "cell_type": "code",
   "execution_count": 59,
   "id": "324b5e8a",
   "metadata": {},
   "outputs": [],
   "source": [
    "post_vs_avg\n",
    "names = []\n",
    "likes_counts_avg = []\n",
    "for myDict in post_vs_avg :\n",
    "    names.append(myDict['names'])\n",
    "    likes_counts_avg.append(myDict['avg'])"
   ]
  },
  {
   "cell_type": "markdown",
   "id": "d8e84aa8",
   "metadata": {},
   "source": [
    "#### 3.4: Output"
   ]
  },
  {
   "cell_type": "code",
   "execution_count": 60,
   "id": "45b902c1",
   "metadata": {},
   "outputs": [
    {
     "data": {
      "image/png": "[encoded data removed]",
      "text/plain": [
       "<Figure size 640x480 with 1 Axes>"
      ]
     },
     "metadata": {},
     "output_type": "display_data"
    }
   ],
   "source": [
    "plt.bar(names, likes_counts_avg, color = 'darkblue')\n",
    "plt.xticks(rotation = 30)\n",
    "plt.title('Accounts VS Average Likes')\n",
    "plt.show()"
   ]
  },
  {
   "cell_type": "markdown",
   "id": "af6d1a17",
   "metadata": {},
   "source": [
    "### SUBMITTED BY - PRATEEK SARNA"
   ]
  }
 ],
 "metadata": {
  "kernelspec": {
   "display_name": "Python 3 (ipykernel)",
   "language": "python",
   "name": "python3"
  },
  "language_info": {
   "codemirror_mode": {
    "name": "ipython",
    "version": 3
   },
   "file_extension": ".py",
   "mimetype": "text/x-python",
   "name": "python",
   "nbconvert_exporter": "python",
   "pygments_lexer": "ipython3",
   "version": "3.9.13"
  }
 },
 "nbformat": 4,
 "nbformat_minor": 5
}
